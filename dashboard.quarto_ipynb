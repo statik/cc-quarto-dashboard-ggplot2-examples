{
  "cells": [
    {
      "cell_type": "markdown",
      "metadata": {},
      "source": [
        "--- \n",
        "title: \"Development Indicators by Continent\"\n",
        "author: \"Gapminder Analytics Group\"\n",
        "format: dashboard\n",
        "--- "
      ],
      "id": "16f8908e"
    },
    {
      "cell_type": "code",
      "metadata": {},
      "source": [
        "import plotly.express as px\n",
        "df = px.data.gapminder()"
      ],
      "id": "da97eafb",
      "execution_count": null,
      "outputs": []
    },
    {
      "cell_type": "markdown",
      "metadata": {},
      "source": [
        "## Row {height=60%}\n"
      ],
      "id": "48991672"
    },
    {
      "cell_type": "code",
      "metadata": {
        "title": "GDP and Life Expectancy"
      },
      "source": [
        "px.scatter(  \n",
        "  df, x=\"gdpPercap\", y=\"lifeExp\", \n",
        "  animation_frame=\"year\", animation_group=\"country\", \n",
        "  size=\"pop\", color=\"continent\", hover_name=\"country\",\n",
        "  facet_col=\"continent\", log_x=True, size_max=45, \n",
        "  range_x=[100,100000], range_y=[25,90] \n",
        ")  "
      ],
      "id": "9f4326a1",
      "execution_count": null,
      "outputs": []
    },
    {
      "cell_type": "markdown",
      "metadata": {},
      "source": [
        "## Row {height=40%}\n"
      ],
      "id": "9bec9614"
    },
    {
      "cell_type": "code",
      "metadata": {
        "title": "Population"
      },
      "source": [
        "px.area(\n",
        "  df, x=\"year\", y=\"pop\", \n",
        "  color=\"continent\", line_group=\"country\"\n",
        ")"
      ],
      "id": "b393febf",
      "execution_count": null,
      "outputs": []
    },
    {
      "cell_type": "code",
      "metadata": {
        "title": "Life Expectancy"
      },
      "source": [
        "px.line(\n",
        "  df, x=\"year\", y=\"lifeExp\", \n",
        "  color=\"continent\", line_group=\"country\"\n",
        ")"
      ],
      "id": "f1a7c3d0",
      "execution_count": null,
      "outputs": []
    }
  ],
  "metadata": {
    "kernelspec": {
      "display_name": "Python 3",
      "language": "python",
      "name": "python3"
    }
  },
  "nbformat": 4,
  "nbformat_minor": 5
}